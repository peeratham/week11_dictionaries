{
 "cells": [
  {
   "cell_type": "markdown",
   "metadata": {},
   "source": [
    "Dictionaries\n",
    "----------\n",
    "\n",
    "โจทย์แบบฝึกหัดและแบบทดสอบ (แปลเป็นไทย)\n",
    "https://docs.google.com/document/d/1mSdnYu66oGGgOXaG3N8C5_A7J6cR8sNoA7gyShdzedw/edit?usp=sharing\n",
    "\n",
    "ควรทำแบบฝึก:\n",
    "* หัวข้อ 11.6 ทั้งหมด (11.6.7, 11.6.8, 11.6.10, 11.6.11)\n",
    "* หัวข้อ 11.7 ทั้งหมด (11.7.2, 11.7.3)\n",
    "* หัวข้อ 11.8 ทั้งหมด (11.8.3, 11.8.4)\n",
    "\n",
    "เสร็จแล้วทำ Assessment 14 (Part 1 & Part 2 ส่งอาทิตย์หน้า)"
   ]
  },
  {
   "cell_type": "markdown",
   "metadata": {},
   "source": [
    "# 11.1. Introduction: Dictionaries"
   ]
  },
  {
   "cell_type": "code",
   "execution_count": 24,
   "metadata": {},
   "outputs": [
    {
     "name": "stdout",
     "output_type": "stream",
     "text": [
      "('Mike', '662-234-8617')\n",
      "Mike's phone number is 662-234-8617\n",
      "Mike's phone number is 662-234-8617\n"
     ]
    }
   ],
   "source": [
    "# why dictionary\n",
    "phone_records = [('John','662-234-8617'),\n",
    "              ('Mary','662-271-0852'),\n",
    "              ('James','662-233-9526'),\n",
    "              ('David','662-254-7329'),\n",
    "              ('Mike','662-234-8617'),\n",
    "              ('Liz','662-247-0061'),\n",
    "              ('Jane','662-221-0999'),\n",
    "              ]\n",
    "# Q:What is the above data type?\n",
    "\n",
    "# get Mike phone number (hard code)\n",
    "print(phone_records[4])\n",
    "mike_record = phone_records[4]\n",
    "print(\"{}'s phone number is {}\".format(mike_record[0],mike_record[1]))\n",
    "# OR\n",
    "print(\"{}'s phone number is {}\".format(phone_records[4][0],phone_records[4][1]))"
   ]
  },
  {
   "cell_type": "code",
   "execution_count": 25,
   "metadata": {},
   "outputs": [
    {
     "name": "stdout",
     "output_type": "stream",
     "text": [
      "Mike's phone number is 662-234-8617\n"
     ]
    }
   ],
   "source": [
    "# get Mike's phone number (programmatically)\n",
    "name = 'Mike'\n",
    "for record in phone_records:\n",
    "    if record[0]==name:\n",
    "        print(\"{}'s phone number is {}\".format(name, record[1]))\n",
    "        \n",
    "# What if we have 1000 records? 10,000 records? 100,000 records?\n",
    "# Is there a better data type for quicker / more direct access?\n",
    "# DICTIONARY!"
   ]
  },
  {
   "cell_type": "code",
   "execution_count": 26,
   "metadata": {},
   "outputs": [
    {
     "name": "stdout",
     "output_type": "stream",
     "text": [
      "Mike's phone number is 662-234-8617\n"
     ]
    }
   ],
   "source": [
    "# What dictionary can do:\n",
    "phone_record_dict = {'John':'662-234-8617',\n",
    "                 'Mary':'662-271-0852',\n",
    "                 'James':'662-233-9526',\n",
    "                 'David':'662-254-7329',\n",
    "                 'Mike':'662-234-8617',\n",
    "                 'Liz':'662-247-0061',\n",
    "                 'Jane':'662-221-0999'\n",
    "                 }\n",
    "\n",
    "print(\"{}'s phone number is {}\".format(name, phone_record_dict['Mike']))"
   ]
  },
  {
   "cell_type": "markdown",
   "metadata": {},
   "source": [
    "# 11.2. Getting Started with Dictionaries"
   ]
  },
  {
   "cell_type": "markdown",
   "metadata": {},
   "source": [
    "สร้าง dictionary ว่างๆ ไว้ แล้วค่อยกำหนดค่า คู่ key-value ทีละคู่"
   ]
  },
  {
   "cell_type": "code",
   "execution_count": null,
   "metadata": {},
   "outputs": [],
   "source": [
    "eng2thai_v0 = {}\n",
    "eng2thai_v0['one'] = 'nùeng'\n",
    "eng2thai_v0['two'] = 'sŏng'\n",
    "eng2thai_v0['three'] = 'săm'\n",
    "print(eng2thai_v0)"
   ]
  },
  {
   "cell_type": "markdown",
   "metadata": {},
   "source": [
    "อีกวิธี: สร้างดิกชันนารีและกำหนดค่าเริ่มต้นพร้อมกันทีเดียว \n",
    "\n",
    "`dict_ref = {'key1':'value1', 'key2':'value2'}`"
   ]
  },
  {
   "cell_type": "code",
   "execution_count": 23,
   "metadata": {},
   "outputs": [
    {
     "name": "stdout",
     "output_type": "stream",
     "text": [
      "{'one': 'nùeng', 'two': 'sŏng', 'three': 'săm'}\n"
     ]
    }
   ],
   "source": [
    "eng2thai_v1 = {'one': 'nùeng', 'two': 'sŏng', 'three': 'săm'}\n",
    "print(eng2thai_v1)"
   ]
  },
  {
   "cell_type": "code",
   "execution_count": null,
   "metadata": {},
   "outputs": [],
   "source": [
    "\n",
    "# order does not matter and you should not rely on it\n",
    "eng2thai_v2 = { 'two': 'sŏng', 'one': 'nùeng', 'three': 'săm'}\n",
    "print(eng2thai_v1['one'])\n",
    "print(eng2thai_v2['one'])"
   ]
  },
  {
   "cell_type": "markdown",
   "metadata": {},
   "source": [
    "**How does a dictionary work?**\n",
    "\n",
    "Hashtable: Use the power of array + hashing concept\n",
    "\n",
    "https://en.wikipedia.org/wiki/Hash_table"
   ]
  },
  {
   "cell_type": "code",
   "execution_count": null,
   "metadata": {},
   "outputs": [],
   "source": [
    "# Dictionary is mutable\n",
    "# Q: What does it mean to be mutable?\n",
    "eng2thai_v3 = {'one': 'nùeng', 'two': 'sŏng'}\n",
    "eng2thai_v3['three'] = 'săm'\n",
    "print(eng2thai_v3)"
   ]
  },
  {
   "cell_type": "markdown",
   "metadata": {},
   "source": [
    "# 11.3. Dictionary operations"
   ]
  },
  {
   "cell_type": "code",
   "execution_count": 20,
   "metadata": {},
   "outputs": [
    {
     "name": "stdout",
     "output_type": "stream",
     "text": [
      "===Before Deletion===\n",
      " {'apples': 430, 'bananas': 312, 'oranges': 525, 'pears': 217}\n",
      "===After Deletion===\n",
      " {'apples': 430, 'bananas': 312, 'oranges': 525}\n"
     ]
    }
   ],
   "source": [
    "# Remove a dictionary's record (key-value pair)\n",
    "inventory = {'apples': 430, 'bananas': 312, 'oranges': 525, 'pears': 217}\n",
    "print('===Before Deletion===\\n',inventory)\n",
    "del inventory['pears']\n",
    "print('===After Deletion===\\n',inventory)\n",
    "\n",
    "# Setting key's value to 0 is not the same as deleting"
   ]
  },
  {
   "cell_type": "code",
   "execution_count": 21,
   "metadata": {},
   "outputs": [
    {
     "name": "stdout",
     "output_type": "stream",
     "text": [
      "===Before Update===\n",
      " {'apples': 430, 'bananas': 312, 'oranges': 525, 'pears': 217}\n",
      "===After Update===\n",
      " {'apples': 430, 'bananas': 512, 'oranges': 525, 'pears': 217}\n",
      "Number of dictionary's records (key-value pairs):  4\n"
     ]
    }
   ],
   "source": [
    "inventory = {'apples': 430, 'bananas': 312, 'oranges': 525, 'pears': 217}\n",
    "\n",
    "# Update key's value based on its previous value (can increment like a variable)\n",
    "print('===Before Update===\\n', inventory)\n",
    "inventory['bananas'] = inventory['bananas'] + 200\n",
    "print('===After Update===\\n', inventory)\n",
    "\n",
    "# len function return the number of key-value pair\n",
    "# Q: How many key-value pairs in the inventory now?\n",
    "print(\"Number of dictionary's records (key-value pairs): \",len(inventory))"
   ]
  },
  {
   "cell_type": "markdown",
   "metadata": {},
   "source": [
    "# 11.4. Dictionary methods\n",
    "\n",
    "อะไรคือ method?\n",
    "\n",
    "dictionary methods use dot notation, which specifies the name of the method to the right of the dot and the name of the object on which to apply the method immediately to the left of the dot. For example, if x is a variable whose value is a dictionary, x.keys is the method object, and x.keys() invokes the method, returning a view of the value\n",
    "\n",
    "## Iterating over Dictionaries\n",
    "### method: keys()"
   ]
  },
  {
   "cell_type": "code",
   "execution_count": 2,
   "metadata": {},
   "outputs": [
    {
     "name": "stdout",
     "output_type": "stream",
     "text": [
      "===version1===\n",
      "key: apples maps to value ==> 430\n",
      "key: bananas maps to value ==> 312\n",
      "key: pears maps to value ==> 217\n",
      "key: oranges maps to value ==> 525\n",
      "===version2===\n",
      "key: apples maps to value ==> 430\n",
      "key: bananas maps to value ==> 312\n",
      "key: pears maps to value ==> 217\n",
      "key: oranges maps to value ==> 525\n"
     ]
    }
   ],
   "source": [
    "inventory = {'apples': 430, 'bananas': 312, 'pears': 217, 'oranges': 525}\n",
    "\n",
    "# version 1\n",
    "print(\"===version1===\")\n",
    "for akey in inventory.keys():     # the order in which we get the keys is not defined\n",
    "    print(\"key:\", akey, \"maps to value ==>\", inventory[akey])\n",
    "    \n",
    "# version 2\n",
    "print(\"===version2===\")\n",
    "for akey in inventory:     # more concise\n",
    "    print(\"key:\", akey, \"maps to value ==>\", inventory[akey])"
   ]
  },
  {
   "cell_type": "markdown",
   "metadata": {},
   "source": [
    "**Note:** Use sorted if need to iterate over key alphabetically\n",
    "`for akey in sorted(inventory.keys()):`"
   ]
  },
  {
   "cell_type": "code",
   "execution_count": null,
   "metadata": {},
   "outputs": [],
   "source": [
    "inventory = {'apples': 430, 'bananas': 312, 'pears': 217, 'oranges': 525}\n",
    "\n",
    "# inventory.keys() is not a list\n",
    "# print(inventory.keys()[0])  # this will cause runtime error!"
   ]
  },
  {
   "cell_type": "code",
   "execution_count": null,
   "metadata": {},
   "outputs": [],
   "source": [
    "inventory = {'apples': 430, 'bananas': 312, 'pears': 217, 'oranges': 525}\n",
    "\n",
    "# Casting inventory.keys() to a list\n",
    "key_list = list(inventory.keys())       # Make a list of all of the keys\n",
    "print('type of key_list:',type(key_list))\n",
    "# now you can use it like a list\n",
    "print(key_list)\n",
    "print(key_list[0])                      # Display the first key"
   ]
  },
  {
   "cell_type": "markdown",
   "metadata": {},
   "source": [
    "### method: value()\n",
    "\n",
    "* Sometimes iterating over values is enough\n",
    "* use method values() (also no parameter)"
   ]
  },
  {
   "cell_type": "code",
   "execution_count": 4,
   "metadata": {},
   "outputs": [
    {
     "name": "stdout",
     "output_type": "stream",
     "text": [
      "list of values: [430, 312, 217, 525]\n",
      "value: 430\n",
      "value: 312\n",
      "value: 217\n",
      "value: 525\n"
     ]
    }
   ],
   "source": [
    "inventory = {'apples': 430, 'bananas': 312, 'pears': 217, 'oranges': 525}\n",
    "\n",
    "values = list(inventory.values())\n",
    "print('list of values:',values)\n",
    "\n",
    "# iterate over the list of values\n",
    "for v in inventory.values():\n",
    "    print(\"value:\", v)"
   ]
  },
  {
   "cell_type": "markdown",
   "metadata": {},
   "source": [
    "### method: items()\n",
    "เมื่อต้องการทั้ง key และ value ในเวลาเดียวกัน"
   ]
  },
  {
   "cell_type": "code",
   "execution_count": 5,
   "metadata": {},
   "outputs": [
    {
     "name": "stdout",
     "output_type": "stream",
     "text": [
      "list of items: [('apples', 430), ('bananas', 312), ('pears', 217), ('oranges', 525)]\n",
      "Got apples that maps to 430\n",
      "Got bananas that maps to 312\n",
      "Got pears that maps to 217\n",
      "Got oranges that maps to 525\n"
     ]
    }
   ],
   "source": [
    "inventory = {'apples': 430, 'bananas': 312, 'oranges': 525, 'pears': 217}\n",
    "\n",
    "print('list of items:',list(inventory.items()))\n",
    "\n",
    "for k, v in inventory.items():\n",
    "    print(\"Got\", k, \"that maps to\", v)    "
   ]
  },
  {
   "cell_type": "markdown",
   "metadata": {},
   "source": [
    "### Safely retrieving value"
   ]
  },
  {
   "cell_type": "code",
   "execution_count": null,
   "metadata": {},
   "outputs": [],
   "source": [
    "inventory = {'apples': 430, 'bananas': 312, 'pears': 217, 'oranges': 525}\n",
    "\n",
    "# access a key that does not exist will cause error\n",
    "# uncomment and run the line below to confirm\n",
    "\n",
    "# print(inventory['watermelon'])"
   ]
  },
  {
   "cell_type": "markdown",
   "metadata": {},
   "source": [
    "#### วิธีที่ 1: the [] operator "
   ]
  },
  {
   "cell_type": "code",
   "execution_count": 10,
   "metadata": {},
   "outputs": [
    {
     "name": "stdout",
     "output_type": "stream",
     "text": [
      "'apples' in inventory: True\n",
      "'cherries' in inventory: False\n",
      "312\n"
     ]
    }
   ],
   "source": [
    "inventory = {'apples': 430, 'bananas': 312, 'oranges': 525, 'pears': 217}\n",
    "\n",
    "print(\"'apples' in inventory:\", 'apples' in inventory)\n",
    "print(\"'cherries' in inventory:\",   'cherries' in inventory)\n",
    "\n",
    "if 'bananas' in inventory:\n",
    "    print(inventory['bananas']) # 'banana' is in the dictionary's keys so it's safe to access its value\n",
    "else:\n",
    "    print(\"We have no bananas\") # not in the dictionary's keys: Do not access it! "
   ]
  },
  {
   "cell_type": "markdown",
   "metadata": {},
   "source": [
    "#### วิธีที่ 2: get() method \n",
    "วิธีนี้ถึงแม้ไม่มี key ใน dictionary ก็ไม่ทำให้เกิด runtime error\n",
    "* 1 parameter: get(key)\n",
    "* 2 parameters: get(key, alternative_value)"
   ]
  },
  {
   "cell_type": "code",
   "execution_count": 12,
   "metadata": {},
   "outputs": [
    {
     "name": "stdout",
     "output_type": "stream",
     "text": [
      "430\n",
      "None\n",
      "0\n"
     ]
    }
   ],
   "source": [
    "inventory = {'apples': 430, 'bananas': 312, 'oranges': 525, 'pears': 217}\n",
    "\n",
    "print(inventory.get(\"apples\"))\n",
    "print(inventory.get(\"cherries\"))    #ถ้าไม่มี key, get method จะ return None\n",
    "\n",
    "print(inventory.get(\"cherries\",0))  #กำหนดให้ get method return ค่าเป็น 0 ถ้าไม่เจอะ key"
   ]
  },
  {
   "cell_type": "markdown",
   "metadata": {},
   "source": [
    "# 11.5. Aliasing and copying"
   ]
  },
  {
   "cell_type": "code",
   "execution_count": 13,
   "metadata": {},
   "outputs": [
    {
     "name": "stdout",
     "output_type": "stream",
     "text": [
      "True\n",
      "left\n"
     ]
    }
   ],
   "source": [
    "opposites = {'up': 'down', 'right': 'wrong', 'true': 'false'}\n",
    "alias = opposites   # alias เหมือนเป็นชื่ออีกชื่อหนึ่ง แต่ยังคงอ้างอิง object เดียวกันกับ opposites\n",
    "\n",
    "print(alias is opposites) # is เช็คว่า object ที่ถูกอ้างอิงโดยตัวแปร เป็นวัตถุเดียวกันหรือไม่\n",
    "\n",
    "alias['right'] = 'left' \n",
    "print(opposites['right'])    # ลองpredict ว่า print เป็นค่าอะไร?"
   ]
  },
  {
   "cell_type": "code",
   "execution_count": 15,
   "metadata": {},
   "outputs": [
    {
     "name": "stdout",
     "output_type": "stream",
     "text": [
      "acopy: {'up': 'down', 'right': 'left', 'true': 'false'}\n",
      "opposites: {'up': 'down', 'right': 'wrong', 'true': 'false'}\n"
     ]
    }
   ],
   "source": [
    "# ถ้าต้องการเก็บ original copy ไม่ให้ถูกเปลี่ยน\n",
    "opposites = {'up': 'down', 'right': 'wrong', 'true': 'false'}\n",
    "acopy = opposites.copy() \n",
    "acopy['right'] = 'left'    # does not change opposites\n",
    "\n",
    "print('acopy:',acopy)\n",
    "print('opposites:',opposites)"
   ]
  },
  {
   "cell_type": "markdown",
   "metadata": {},
   "source": [
    "# 11.6. Introduction: Accumulating Multiple Results In a Dictionary\n",
    "\n",
    "สะสมข้อมูลหลายๆ ค่าใน โดยใช้ dictionary "
   ]
  },
  {
   "cell_type": "markdown",
   "metadata": {},
   "source": [
    "## ใช้ตัวแปรธรรมดาเก็บข้อมูล\n",
    "\n",
    "### เริ่มต้นด้วย: นับตัว t"
   ]
  },
  {
   "cell_type": "code",
   "execution_count": 16,
   "metadata": {},
   "outputs": [
    {
     "name": "stdout",
     "output_type": "stream",
     "text": [
      "t: 17584 occurrences\n"
     ]
    }
   ],
   "source": [
    "f = open('scarlet.txt', 'r')\n",
    "txt = f.read()\n",
    "# now txt is one long string containing all the characters\n",
    "t_count = 0 #initialize the accumulator variable\n",
    "for c in txt:\n",
    "    if c == 't':\n",
    "        t_count = t_count + 1   #increment the counter\n",
    "print(\"t: \" + str(t_count) + \" occurrences\")"
   ]
  },
  {
   "cell_type": "markdown",
   "metadata": {},
   "source": [
    "### เก็บข้อมูลของตัว t กับ ตัว s"
   ]
  },
  {
   "cell_type": "code",
   "execution_count": null,
   "metadata": {},
   "outputs": [],
   "source": [
    "f = open('scarlet.txt', 'r')\n",
    "txt = f.read()\n",
    "# now txt is one long string containing all the characters\n",
    "t_count = 0 #initialize the accumulator variable\n",
    "s_count = 0 # initialize the s counter accumulator as well\n",
    "for c in txt:\n",
    "    if c == 't':\n",
    "        t_count = t_count + 1   #increment the t counter\n",
    "    elif c == 's':\n",
    "        s_count = s_count + 1\n",
    "print(\"t: \" + str(t_count) + \" occurrences\")\n",
    "print(\"s: \" + str(s_count) + \" occurrences\")"
   ]
  },
  {
   "cell_type": "markdown",
   "metadata": {},
   "source": [
    "## ใช้ dictionary"
   ]
  },
  {
   "cell_type": "code",
   "execution_count": null,
   "metadata": {},
   "outputs": [],
   "source": [
    "f = open('scarlet.txt', 'r')\n",
    "txt = f.read()\n",
    "# now txt is one long string containing all the characters\n",
    "letter_counts = {} # start with an empty dictionary\n",
    "letter_counts['t'] = 0  # initialize the t counter\n",
    "letter_counts['s'] = 0  # initialize the s counter\n",
    "for c in txt:\n",
    "    if c == 't':\n",
    "        letter_counts['t'] = letter_counts['t'] + 1  # increment the t counter\n",
    "    elif c == 's':\n",
    "        letter_counts['s'] = letter_counts['s'] + 1  # increment the s counter\n",
    "\n",
    "print(\"t: \" + str(letter_counts['t']) + \" occurrences\")\n",
    "print(\"s: \" + str(letter_counts['s']) + \" occurrences\")"
   ]
  },
  {
   "cell_type": "markdown",
   "metadata": {},
   "source": [
    "### ปรับปรุง #1 ใช้ key อ้างอิงตัวแปรลูป c  "
   ]
  },
  {
   "cell_type": "code",
   "execution_count": null,
   "metadata": {},
   "outputs": [],
   "source": [
    "f = open('scarlet.txt', 'r')\n",
    "txt = f.read()\n",
    "# now txt is one long string containing all the characters\n",
    "letter_counts = {} # start with an empty dictionary\n",
    "letter_counts['t'] = 0  # intiialize the t counter\n",
    "letter_counts['s'] = 0  # initialize the s counter\n",
    "for c in txt:\n",
    "    if c == 't':\n",
    "        letter_counts[c] = letter_counts[c] + 1   # increment the t counter\n",
    "    elif c == 's':\n",
    "        letter_counts[c] = letter_counts[c] + 1   # increment the s counter\n",
    "\n",
    "print(\"t: \" + str(letter_counts['t']) + \" occurrences\")\n",
    "print(\"s: \" + str(letter_counts['s']) + \" occurrences\")"
   ]
  },
  {
   "cell_type": "markdown",
   "metadata": {},
   "source": [
    "### ปรับปรุง #2 บันทึกทุกตัวอักษร แล้วอ่านผลลัพธ์ของ key ตัวอักษร t และ s"
   ]
  },
  {
   "cell_type": "code",
   "execution_count": null,
   "metadata": {},
   "outputs": [],
   "source": [
    "f = open('scarlet.txt', 'r')\n",
    "txt = f.read()\n",
    "# now txt is one long string containing all the characters\n",
    "letter_counts = {} # start with an empty dictionary\n",
    "for c in txt:\n",
    "    if c not in letter_counts:\n",
    "        # we have not seen this character before, so initialize a counter for it\n",
    "        letter_counts[c] = 0\n",
    "\n",
    "    #whether we've seen it before or not, increment its counter\n",
    "    letter_counts[c] = letter_counts[c] + 1\n",
    "\n",
    "print(\"t: \" + str(letter_counts['t']) + \" occurrences\")\n",
    "print(\"s: \" + str(letter_counts['s']) + \" occurrences\")"
   ]
  },
  {
   "cell_type": "code",
   "execution_count": 17,
   "metadata": {},
   "outputs": [],
   "source": [
    "# ลองแปลงโค้ดข้างบน ให้ใช้ get method แทนที่ operator []? \n",
    "\n"
   ]
  },
  {
   "cell_type": "markdown",
   "metadata": {},
   "source": [
    "# 11.7. Accumulating Results From a Dictionary"
   ]
  },
  {
   "cell_type": "code",
   "execution_count": 18,
   "metadata": {},
   "outputs": [
    {
     "name": "stdout",
     "output_type": "stream",
     "text": [
      "337353\n"
     ]
    }
   ],
   "source": [
    "# compute a Scrabble score for the Study in Scarlet text\n",
    "\n",
    "f = open('scarlet.txt', 'r')\n",
    "txt = f.read()\n",
    "# now txt is one long string containing all the characters\n",
    "letter_counts = {} # start with an empty dictionary\n",
    "for c in txt:\n",
    "    if c not in letter_counts:\n",
    "        # we have not seen this character before, so initialize a counter for it\n",
    "        letter_counts[c] = 0\n",
    "\n",
    "    #whether we've seen it before or not, increment its counter\n",
    "    letter_counts[c] = letter_counts[c] + 1\n",
    "\n",
    "letter_values = {'a': 1, 'b': 3, 'c': 3, 'd': 2, 'e': 1, 'f':4, 'g': 2, 'h':4, 'i':1, 'j':8, 'k':5, 'l':1, 'm':3, 'n':1, 'o':1, 'p':3, 'q':10, 'r':1, 's':1, 't':1, 'u':1, 'v':4, 'w':4, 'x':8, 'y':4, 'z':10}\n",
    "\n",
    "tot = 0\n",
    "for letter in letter_counts:\n",
    "    if letter in letter_values:\n",
    "        tot = tot + letter_values[letter] * letter_counts[letter]\n",
    "\n",
    "print(tot)"
   ]
  },
  {
   "cell_type": "markdown",
   "metadata": {},
   "source": [
    "# 11.8. Accumulating the Best Key"
   ]
  },
  {
   "cell_type": "code",
   "execution_count": null,
   "metadata": {},
   "outputs": [],
   "source": [
    "# Activity: 11.8.1 ActiveCode (ac10_7_1)\n",
    "\n",
    "d = {'a': 194, 'b': 54, 'c':34, 'd': 44, 'e': 312, 'full':31}\n",
    "\n",
    "ks = d.keys()\n",
    "# initialize variable best_key_so_far to be the first key in d\n",
    "for k in ks:\n",
    "    pass # remove this line and write code that:\n",
    "    # check if the value associated with the current key is\n",
    "    # bigger than the value associated with the best_key_so_far\n",
    "    # if so, save the current key as the best so far\n",
    "    \n",
    "\n",
    "# then uncomment the following line to print the result:\n",
    "# print(\"key \" + best_key_so_far + \" has the highest value, \" + str(d[best_key_so_far]))\n"
   ]
  },
  {
   "cell_type": "markdown",
   "metadata": {},
   "source": [
    "# 11.9.เมื่อไหร่ควรใช้ dictionary?"
   ]
  },
  {
   "cell_type": "markdown",
   "metadata": {},
   "source": [
    "ข้อมูลที่ใช้ประกอบด้วยข้อมูลย่อยๆ หรือรายละเอียด \n",
    "* ตัวอย่าง ข้อมูลส่วนบุคคลมีชุดข้อมูลย่อย เช่น ชื่อ อายุ เบอร์โทร ที่อยู่"
   ]
  },
  {
   "cell_type": "code",
   "execution_count": 31,
   "metadata": {},
   "outputs": [
    {
     "name": "stdout",
     "output_type": "stream",
     "text": [
      "26\n",
      "26\n"
     ]
    }
   ],
   "source": [
    "myinfo_dict = {'name':'Somchai','age':26 ,'phone_number':'035-254-2466', 'address':'111/2 Doi Saket, Chiang Mai'}\n",
    "print(myinfo_dict['age'])\n",
    "myinfo_list = ['Somchai', 26, '035-254-2466','111/2 Doi Saket, Chiang Mai']\n",
    "print(myinfo_list[1])"
   ]
  },
  {
   "cell_type": "markdown",
   "metadata": {},
   "source": [
    "เมื่อมี collection ของ ข้อมูลที่มาเป็นคู่ ที่ใช้ข้อมูลตัวแรกเพื่อหาข้อมูลที่สอง"
   ]
  },
  {
   "cell_type": "markdown",
   "metadata": {},
   "source": [
    "```\n",
    "phone_records = [('John','662-234-8617'),\n",
    "              ('Mary','662-271-0852'),\n",
    "              ('James','662-233-9526'),\n",
    "              ('David','662-254-7329'),\n",
    "              ('Mike','662-234-8617'),\n",
    "              ('Liz','662-247-0061'),\n",
    "              ('Jane','662-221-0999'),\n",
    "              ]\n",
    "```"
   ]
  },
  {
   "cell_type": "markdown",
   "metadata": {},
   "source": [
    "ยกเว้นข้อมูลที่สัมพันธ์กันเป็นคู่ แต่**ข้อมูลส่วนที่สองมากกว่า 1 ข้อมูลที่สัมพันธ์กับข้อมูลส่วนแรก**\n",
    "เช่น Mary มีโทรศัพท์สองเบอร์ \n",
    "ข้อมูลข้างล่าง ไม่สามารถสร้างเป็น dictionary แบบธรรมดาได้โดยตรง เพราะ แต่ละ key ในดิกชันนารี ต้องไม่เหมือนกัน (unique)\n",
    "```\n",
    "phone_records = [\n",
    "              ('Mary','662-271-0852'),\n",
    "              ('Mary','662-233-9526'), \n",
    "              ('David','662-254-7329')\n",
    "              ]\n",
    "```"
   ]
  }
 ],
 "metadata": {
  "interpreter": {
   "hash": "767d51c1340bd893661ea55ea3124f6de3c7a262a8b4abca0554b478b1e2ff90"
  },
  "kernelspec": {
   "display_name": "Python 3.8.10 64-bit",
   "language": "python",
   "name": "python3"
  },
  "language_info": {
   "codemirror_mode": {
    "name": "ipython",
    "version": 3
   },
   "file_extension": ".py",
   "mimetype": "text/x-python",
   "name": "python",
   "nbconvert_exporter": "python",
   "pygments_lexer": "ipython3",
   "version": "3.8.10"
  },
  "orig_nbformat": 4
 },
 "nbformat": 4,
 "nbformat_minor": 2
}
